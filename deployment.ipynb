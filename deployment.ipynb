{
 "cells": [
  {
   "cell_type": "code",
   "execution_count": 1,
   "metadata": {
    "ExecuteTime": {
     "end_time": "2022-09-24T19:41:29.124267Z",
     "start_time": "2022-09-24T19:41:26.827184Z"
    },
    "executionInfo": {
     "elapsed": 1704,
     "status": "ok",
     "timestamp": 1606731504328,
     "user": {
      "displayName": "Richard C",
      "photoUrl": "",
      "userId": "08040814671867660929"
     },
     "user_tz": -180
    },
    "id": "sy5EcZ65lzy-"
   },
   "outputs": [],
   "source": [
    "import pandas as pd      \n",
    "import numpy as np \n",
    "from sklearn.metrics import mean_squared_error, mean_absolute_error, r2_score\n",
    "from sklearn.model_selection import train_test_split\n",
    "import warnings\n",
    "warnings.filterwarnings('ignore')"
   ]
  },
  {
   "cell_type": "code",
   "execution_count": 373,
   "metadata": {},
   "outputs": [],
   "source": [
    "#pip list"
   ]
  },
  {
   "cell_type": "code",
   "execution_count": 1,
   "metadata": {},
   "outputs": [
    {
     "name": "stdout",
     "output_type": "stream",
     "text": [
      "Collecting streamlit==1.10.0\n",
      "  Using cached streamlit-1.10.0-py2.py3-none-any.whl (9.1 MB)\n",
      "Requirement already satisfied: click>=7.0 in c:\\users\\elitebook\\anaconda3\\lib\\site-packages (from streamlit==1.10.0) (8.1.3)\n",
      "Requirement already satisfied: python-dateutil in c:\\users\\elitebook\\anaconda3\\lib\\site-packages (from streamlit==1.10.0) (2.8.2)\n",
      "Collecting validators\n",
      "  Using cached validators-0.20.0.tar.gz (30 kB)\n",
      "  Preparing metadata (setup.py): started\n",
      "  Preparing metadata (setup.py): finished with status 'done'\n",
      "Requirement already satisfied: pillow>=6.2.0 in c:\\users\\elitebook\\anaconda3\\lib\\site-packages (from streamlit==1.10.0) (9.2.0)\n",
      "Requirement already satisfied: toml in c:\\users\\elitebook\\anaconda3\\lib\\site-packages (from streamlit==1.10.0) (0.10.2)\n",
      "Requirement already satisfied: attrs in c:\\users\\elitebook\\anaconda3\\lib\\site-packages (from streamlit==1.10.0) (21.4.0)\n",
      "Requirement already satisfied: requests in c:\\users\\elitebook\\anaconda3\\lib\\site-packages (from streamlit==1.10.0) (2.28.1)\n",
      "Requirement already satisfied: typing-extensions in c:\\users\\elitebook\\anaconda3\\lib\\site-packages (from streamlit==1.10.0) (4.3.0)\n",
      "Collecting pympler>=0.9\n",
      "  Using cached Pympler-1.0.1-py3-none-any.whl (164 kB)\n",
      "Collecting blinker\n",
      "  Using cached blinker-1.5-py2.py3-none-any.whl (12 kB)\n",
      "Collecting pydeck>=0.1.dev5\n",
      "  Downloading pydeck-0.8.0b3-py2.py3-none-any.whl (4.7 MB)\n",
      "     ---------------------------------------- 4.7/4.7 MB 473.5 kB/s eta 0:00:00\n",
      "Requirement already satisfied: importlib-metadata>=1.4 in c:\\users\\elitebook\\anaconda3\\lib\\site-packages (from streamlit==1.10.0) (4.11.3)\n",
      "Collecting semver\n",
      "  Using cached semver-2.13.0-py2.py3-none-any.whl (12 kB)\n",
      "Requirement already satisfied: protobuf<4,>=3.12 in c:\\users\\elitebook\\anaconda3\\lib\\site-packages (from streamlit==1.10.0) (3.20.1)\n",
      "Collecting gitpython!=3.1.19\n",
      "  Downloading GitPython-3.1.27-py3-none-any.whl (181 kB)\n",
      "     -------------------------------------- 181.2/181.2 kB 2.7 MB/s eta 0:00:00\n",
      "Collecting pyarrow\n",
      "  Downloading pyarrow-9.0.0-cp39-cp39-win_amd64.whl (19.6 MB)\n",
      "     -------------------------------------- 19.6/19.6 MB 188.8 kB/s eta 0:00:00\n",
      "Requirement already satisfied: numpy in c:\\users\\elitebook\\anaconda3\\lib\\site-packages (from streamlit==1.10.0) (1.21.5)\n",
      "Collecting tzlocal\n",
      "  Using cached tzlocal-4.2-py3-none-any.whl (19 kB)\n",
      "Requirement already satisfied: watchdog in c:\\users\\elitebook\\anaconda3\\lib\\site-packages (from streamlit==1.10.0) (2.1.6)\n",
      "Requirement already satisfied: rich in c:\\users\\elitebook\\anaconda3\\lib\\site-packages (from streamlit==1.10.0) (12.5.1)\n",
      "Requirement already satisfied: pandas>=0.21.0 in c:\\users\\elitebook\\anaconda3\\lib\\site-packages (from streamlit==1.10.0) (1.4.3)\n",
      "Requirement already satisfied: tornado>=5.0 in c:\\users\\elitebook\\anaconda3\\lib\\site-packages (from streamlit==1.10.0) (6.1)\n",
      "Collecting altair>=3.2.0\n",
      "  Using cached altair-4.2.0-py3-none-any.whl (812 kB)\n",
      "Requirement already satisfied: packaging in c:\\users\\elitebook\\anaconda3\\lib\\site-packages (from streamlit==1.10.0) (21.3)\n",
      "Requirement already satisfied: cachetools>=4.0 in c:\\users\\elitebook\\anaconda3\\lib\\site-packages (from streamlit==1.10.0) (4.2.2)\n",
      "Requirement already satisfied: jinja2 in c:\\users\\elitebook\\anaconda3\\lib\\site-packages (from altair>=3.2.0->streamlit==1.10.0) (3.0.3)\n",
      "Requirement already satisfied: entrypoints in c:\\users\\elitebook\\anaconda3\\lib\\site-packages (from altair>=3.2.0->streamlit==1.10.0) (0.4)\n",
      "Requirement already satisfied: jsonschema>=3.0 in c:\\users\\elitebook\\anaconda3\\lib\\site-packages (from altair>=3.2.0->streamlit==1.10.0) (4.4.0)\n",
      "Requirement already satisfied: toolz in c:\\users\\elitebook\\anaconda3\\lib\\site-packages (from altair>=3.2.0->streamlit==1.10.0) (0.11.2)\n",
      "Requirement already satisfied: colorama in c:\\users\\elitebook\\anaconda3\\lib\\site-packages (from click>=7.0->streamlit==1.10.0) (0.4.5)\n",
      "Collecting gitdb<5,>=4.0.1\n",
      "  Using cached gitdb-4.0.9-py3-none-any.whl (63 kB)\n",
      "Requirement already satisfied: zipp>=0.5 in c:\\users\\elitebook\\anaconda3\\lib\\site-packages (from importlib-metadata>=1.4->streamlit==1.10.0) (3.8.0)\n",
      "Requirement already satisfied: pytz>=2020.1 in c:\\users\\elitebook\\anaconda3\\lib\\site-packages (from pandas>=0.21.0->streamlit==1.10.0) (2022.1)\n",
      "Requirement already satisfied: six>=1.5 in c:\\users\\elitebook\\anaconda3\\lib\\site-packages (from python-dateutil->streamlit==1.10.0) (1.16.0)\n",
      "Requirement already satisfied: pyparsing!=3.0.5,>=2.0.2 in c:\\users\\elitebook\\anaconda3\\lib\\site-packages (from packaging->streamlit==1.10.0) (3.0.9)\n",
      "Requirement already satisfied: urllib3<1.27,>=1.21.1 in c:\\users\\elitebook\\anaconda3\\lib\\site-packages (from requests->streamlit==1.10.0) (1.26.11)\n",
      "Requirement already satisfied: idna<4,>=2.5 in c:\\users\\elitebook\\anaconda3\\lib\\site-packages (from requests->streamlit==1.10.0) (3.3)\n",
      "Requirement already satisfied: charset-normalizer<3,>=2 in c:\\users\\elitebook\\anaconda3\\lib\\site-packages (from requests->streamlit==1.10.0) (2.0.4)\n",
      "Requirement already satisfied: certifi>=2017.4.17 in c:\\users\\elitebook\\anaconda3\\lib\\site-packages (from requests->streamlit==1.10.0) (2022.6.15.1)\n",
      "Requirement already satisfied: commonmark<0.10.0,>=0.9.0 in c:\\users\\elitebook\\anaconda3\\lib\\site-packages (from rich->streamlit==1.10.0) (0.9.1)\n",
      "Requirement already satisfied: pygments<3.0.0,>=2.6.0 in c:\\users\\elitebook\\anaconda3\\lib\\site-packages (from rich->streamlit==1.10.0) (2.11.2)\n",
      "Collecting pytz-deprecation-shim\n",
      "  Using cached pytz_deprecation_shim-0.1.0.post0-py2.py3-none-any.whl (15 kB)\n",
      "Collecting tzdata\n",
      "  Using cached tzdata-2022.2-py2.py3-none-any.whl (336 kB)\n",
      "Requirement already satisfied: decorator>=3.4.0 in c:\\users\\elitebook\\anaconda3\\lib\\site-packages (from validators->streamlit==1.10.0) (5.1.1)\n",
      "Collecting smmap<6,>=3.0.1\n",
      "  Using cached smmap-5.0.0-py3-none-any.whl (24 kB)\n",
      "Requirement already satisfied: MarkupSafe>=2.0 in c:\\users\\elitebook\\anaconda3\\lib\\site-packages (from jinja2->altair>=3.2.0->streamlit==1.10.0) (2.0.1)\n",
      "Requirement already satisfied: pyrsistent!=0.17.0,!=0.17.1,!=0.17.2,>=0.14.0 in c:\\users\\elitebook\\anaconda3\\lib\\site-packages (from jsonschema>=3.0->altair>=3.2.0->streamlit==1.10.0) (0.18.0)\n",
      "Building wheels for collected packages: validators\n",
      "  Building wheel for validators (setup.py): started\n",
      "  Building wheel for validators (setup.py): finished with status 'done'\n",
      "  Created wheel for validators: filename=validators-0.20.0-py3-none-any.whl size=19579 sha256=dab2586e092d81740ccce6fd478de94e8cb7424f422617af41a4176f3bfc373f\n",
      "  Stored in directory: c:\\users\\elitebook\\appdata\\local\\pip\\cache\\wheels\\2d\\f0\\a8\\1094fca7a7e5d0d12ff56e0c64675d72aa5cc81a5fc200e849\n",
      "Successfully built validators\n",
      "Installing collected packages: validators, tzdata, smmap, semver, pympler, pyarrow, blinker, pytz-deprecation-shim, pydeck, gitdb, tzlocal, gitpython, altair, streamlit\n",
      "Successfully installed altair-4.2.0 blinker-1.5 gitdb-4.0.9 gitpython-3.1.27 pyarrow-9.0.0 pydeck-0.8.0b3 pympler-1.0.1 pytz-deprecation-shim-0.1.0.post0 semver-2.13.0 smmap-5.0.0 streamlit-1.10.0 tzdata-2022.2 tzlocal-4.2 validators-0.20.0\n",
      "Note: you may need to restart the kernel to use updated packages.\n"
     ]
    }
   ],
   "source": [
    "#pip install streamlit==1.10.0"
   ]
  },
  {
   "cell_type": "code",
   "execution_count": 375,
   "metadata": {},
   "outputs": [],
   "source": [
    "#pip install scikit-learn==1.0.2"
   ]
  },
  {
   "cell_type": "code",
   "execution_count": 2,
   "metadata": {
    "ExecuteTime": {
     "end_time": "2022-09-24T19:42:03.547554Z",
     "start_time": "2022-09-24T19:42:03.538569Z"
    },
    "executionInfo": {
     "elapsed": 825,
     "status": "ok",
     "timestamp": 1606731524112,
     "user": {
      "displayName": "Richard C",
      "photoUrl": "",
      "userId": "08040814671867660929"
     },
     "user_tz": -180
    },
    "id": "-AJL3lU-lzzA"
   },
   "outputs": [],
   "source": [
    "def eval_metrics(actual, pred):\n",
    "    rmse = np.sqrt(mean_squared_error(actual, pred))\n",
    "    mae = mean_absolute_error(actual, pred)\n",
    "    mse = mean_squared_error(actual, pred)\n",
    "    score = r2_score(actual, pred)\n",
    "    return print(\" r2_score:\", score, \"\\n\",\"mae:\", mae, \"\\n\",\"mse:\",mse, \"\\n\",\"rmse:\",rmse)"
   ]
  },
  {
   "cell_type": "code",
   "execution_count": 3,
   "metadata": {
    "ExecuteTime": {
     "end_time": "2022-09-24T19:42:16.857894Z",
     "start_time": "2022-09-24T19:42:16.619122Z"
    }
   },
   "outputs": [],
   "source": [
    "df=pd.read_csv(\"without_outliers_autoscout.csv\")\n",
    "pd.set_option('display.max_columns',  None)\n",
    "pd.options.display.float_format = '{:,.1f}'.format"
   ]
  },
  {
   "cell_type": "code",
   "execution_count": 4,
   "metadata": {
    "ExecuteTime": {
     "end_time": "2022-09-24T19:42:19.829928Z",
     "start_time": "2022-09-24T19:42:19.776075Z"
    }
   },
   "outputs": [
    {
     "data": {
      "text/html": [
       "<div>\n",
       "<style scoped>\n",
       "    .dataframe tbody tr th:only-of-type {\n",
       "        vertical-align: middle;\n",
       "    }\n",
       "\n",
       "    .dataframe tbody tr th {\n",
       "        vertical-align: top;\n",
       "    }\n",
       "\n",
       "    .dataframe thead th {\n",
       "        text-align: right;\n",
       "    }\n",
       "</style>\n",
       "<table border=\"1\" class=\"dataframe\">\n",
       "  <thead>\n",
       "    <tr style=\"text-align: right;\">\n",
       "      <th></th>\n",
       "      <th>body_type</th>\n",
       "      <th>price_€</th>\n",
       "      <th>vat</th>\n",
       "      <th>km</th>\n",
       "      <th>hp_kW</th>\n",
       "      <th>type</th>\n",
       "      <th>previous_owners</th>\n",
       "      <th>warranty</th>\n",
       "      <th>make</th>\n",
       "      <th>model</th>\n",
       "      <th>body_color</th>\n",
       "      <th>paint_type</th>\n",
       "      <th>upholstery</th>\n",
       "      <th>nr_of_doors</th>\n",
       "      <th>nr_of_seats</th>\n",
       "      <th>gearing_type</th>\n",
       "      <th>engine_displacement_cc</th>\n",
       "      <th>cylinders</th>\n",
       "      <th>weight_kg</th>\n",
       "      <th>drive_chain</th>\n",
       "      <th>fuel</th>\n",
       "      <th>co2e_g</th>\n",
       "      <th>emission_class</th>\n",
       "      <th>comfort&amp;convenience</th>\n",
       "      <th>entertainment&amp;media</th>\n",
       "      <th>extras</th>\n",
       "      <th>safety&amp;security</th>\n",
       "      <th>gears</th>\n",
       "      <th>country_version</th>\n",
       "      <th>consumption_comb</th>\n",
       "      <th>age</th>\n",
       "    </tr>\n",
       "  </thead>\n",
       "  <tbody>\n",
       "    <tr>\n",
       "      <th>0</th>\n",
       "      <td>Sedans</td>\n",
       "      <td>15,770.0</td>\n",
       "      <td>VAT deductible</td>\n",
       "      <td>56,013.0</td>\n",
       "      <td>66.0</td>\n",
       "      <td>Used</td>\n",
       "      <td>2.0</td>\n",
       "      <td>0.0</td>\n",
       "      <td>Audi</td>\n",
       "      <td>A1</td>\n",
       "      <td>Black</td>\n",
       "      <td>Metallic</td>\n",
       "      <td>Cloth</td>\n",
       "      <td>5.0</td>\n",
       "      <td>5.0</td>\n",
       "      <td>Automatic</td>\n",
       "      <td>1.5</td>\n",
       "      <td>3.0</td>\n",
       "      <td>1,220.0</td>\n",
       "      <td>front</td>\n",
       "      <td>Diesel</td>\n",
       "      <td>99.0</td>\n",
       "      <td>Euro 6</td>\n",
       "      <td>Air conditioning,Armrest,Automatic climate con...</td>\n",
       "      <td>Bluetooth,Hands-free equipment,On-board comput...</td>\n",
       "      <td>Alloy wheels,Catalytic Converter,Voice Control</td>\n",
       "      <td>ABS,Central door lock,Daytime running lights,D...</td>\n",
       "      <td>7.0</td>\n",
       "      <td>Unknown</td>\n",
       "      <td>3.8</td>\n",
       "      <td>3.0</td>\n",
       "    </tr>\n",
       "  </tbody>\n",
       "</table>\n",
       "</div>"
      ],
      "text/plain": [
       "  body_type  price_€             vat       km  hp_kW  type  previous_owners  \\\n",
       "0    Sedans 15,770.0  VAT deductible 56,013.0   66.0  Used              2.0   \n",
       "\n",
       "   warranty  make model body_color paint_type upholstery  nr_of_doors  \\\n",
       "0       0.0  Audi    A1      Black   Metallic      Cloth          5.0   \n",
       "\n",
       "   nr_of_seats gearing_type  engine_displacement_cc  cylinders  weight_kg  \\\n",
       "0          5.0    Automatic                     1.5        3.0    1,220.0   \n",
       "\n",
       "  drive_chain    fuel  co2e_g emission_class  \\\n",
       "0       front  Diesel    99.0         Euro 6   \n",
       "\n",
       "                                 comfort&convenience  \\\n",
       "0  Air conditioning,Armrest,Automatic climate con...   \n",
       "\n",
       "                                 entertainment&media  \\\n",
       "0  Bluetooth,Hands-free equipment,On-board comput...   \n",
       "\n",
       "                                           extras  \\\n",
       "0  Alloy wheels,Catalytic Converter,Voice Control   \n",
       "\n",
       "                                     safety&security  gears country_version  \\\n",
       "0  ABS,Central door lock,Daytime running lights,D...    7.0         Unknown   \n",
       "\n",
       "   consumption_comb  age  \n",
       "0               3.8  3.0  "
      ]
     },
     "execution_count": 4,
     "metadata": {},
     "output_type": "execute_result"
    }
   ],
   "source": [
    "df.head(1)"
   ]
  },
  {
   "cell_type": "code",
   "execution_count": 5,
   "metadata": {
    "ExecuteTime": {
     "end_time": "2022-09-24T19:42:25.160811Z",
     "start_time": "2022-09-24T19:42:25.145852Z"
    }
   },
   "outputs": [
    {
     "data": {
      "text/plain": [
       "(15919, 31)"
      ]
     },
     "execution_count": 5,
     "metadata": {},
     "output_type": "execute_result"
    }
   ],
   "source": [
    "df.shape"
   ]
  },
  {
   "cell_type": "code",
   "execution_count": 6,
   "metadata": {
    "ExecuteTime": {
     "end_time": "2022-09-24T19:42:34.142108Z",
     "start_time": "2022-09-24T19:42:34.065926Z"
    }
   },
   "outputs": [
    {
     "data": {
      "text/plain": [
       "False"
      ]
     },
     "execution_count": 6,
     "metadata": {},
     "output_type": "execute_result"
    }
   ],
   "source": [
    "df.isnull().sum().any()"
   ]
  },
  {
   "cell_type": "code",
   "execution_count": 7,
   "metadata": {
    "ExecuteTime": {
     "end_time": "2022-09-24T19:42:37.168789Z",
     "start_time": "2022-09-24T19:42:37.145851Z"
    }
   },
   "outputs": [
    {
     "data": {
      "text/plain": [
       "Index(['body_type', 'price_€', 'vat', 'km', 'hp_kW', 'type', 'previous_owners',\n",
       "       'warranty', 'make', 'model', 'body_color', 'paint_type', 'upholstery',\n",
       "       'nr_of_doors', 'nr_of_seats', 'gearing_type', 'engine_displacement_cc',\n",
       "       'cylinders', 'weight_kg', 'drive_chain', 'fuel', 'co2e_g',\n",
       "       'emission_class', 'comfort&convenience', 'entertainment&media',\n",
       "       'extras', 'safety&security', 'gears', 'country_version',\n",
       "       'consumption_comb', 'age'],\n",
       "      dtype='object')"
      ]
     },
     "execution_count": 7,
     "metadata": {},
     "output_type": "execute_result"
    }
   ],
   "source": [
    "df.columns"
   ]
  },
  {
   "cell_type": "code",
   "execution_count": 8,
   "metadata": {
    "ExecuteTime": {
     "end_time": "2022-09-24T19:42:42.550948Z",
     "start_time": "2022-09-24T19:42:42.537983Z"
    }
   },
   "outputs": [
    {
     "data": {
      "text/plain": [
       "array([3., 2., 1., 0.])"
      ]
     },
     "execution_count": 8,
     "metadata": {},
     "output_type": "execute_result"
    }
   ],
   "source": [
    "df.age.unique()"
   ]
  },
  {
   "cell_type": "code",
   "execution_count": 9,
   "metadata": {
    "ExecuteTime": {
     "end_time": "2022-09-24T19:42:45.951113Z",
     "start_time": "2022-09-24T19:42:45.934161Z"
    }
   },
   "outputs": [
    {
     "data": {
      "text/plain": [
       "40.0"
      ]
     },
     "execution_count": 9,
     "metadata": {},
     "output_type": "execute_result"
    }
   ],
   "source": [
    "df.hp_kW.min()"
   ]
  },
  {
   "cell_type": "code",
   "execution_count": 10,
   "metadata": {
    "ExecuteTime": {
     "end_time": "2022-09-24T19:42:52.548208Z",
     "start_time": "2022-09-24T19:42:52.538230Z"
    }
   },
   "outputs": [
    {
     "data": {
      "text/plain": [
       "294.0"
      ]
     },
     "execution_count": 10,
     "metadata": {},
     "output_type": "execute_result"
    }
   ],
   "source": [
    "df.hp_kW.max()"
   ]
  },
  {
   "cell_type": "code",
   "execution_count": 11,
   "metadata": {
    "ExecuteTime": {
     "end_time": "2022-09-24T19:42:56.686380Z",
     "start_time": "2022-09-24T19:42:56.667464Z"
    }
   },
   "outputs": [
    {
     "data": {
      "text/plain": [
       "6699"
      ]
     },
     "execution_count": 11,
     "metadata": {},
     "output_type": "execute_result"
    }
   ],
   "source": [
    "df.km.nunique()"
   ]
  },
  {
   "cell_type": "code",
   "execution_count": 12,
   "metadata": {
    "ExecuteTime": {
     "end_time": "2022-09-24T19:43:00.699596Z",
     "start_time": "2022-09-24T19:43:00.683638Z"
    }
   },
   "outputs": [
    {
     "data": {
      "text/plain": [
       "317000.0"
      ]
     },
     "execution_count": 12,
     "metadata": {},
     "output_type": "execute_result"
    }
   ],
   "source": [
    "df.km.max()"
   ]
  },
  {
   "cell_type": "code",
   "execution_count": 13,
   "metadata": {
    "ExecuteTime": {
     "end_time": "2022-09-24T19:43:04.598529Z",
     "start_time": "2022-09-24T19:43:04.584570Z"
    }
   },
   "outputs": [
    {
     "data": {
      "text/plain": [
       "0.0"
      ]
     },
     "execution_count": 13,
     "metadata": {},
     "output_type": "execute_result"
    }
   ],
   "source": [
    "df.km.min()"
   ]
  },
  {
   "cell_type": "code",
   "execution_count": 15,
   "metadata": {
    "ExecuteTime": {
     "end_time": "2022-09-24T19:43:21.558500Z",
     "start_time": "2022-09-24T19:43:21.548557Z"
    }
   },
   "outputs": [
    {
     "data": {
      "text/plain": [
       "array(['Automatic', 'Manual', 'Semi-automatic'], dtype=object)"
      ]
     },
     "execution_count": 15,
     "metadata": {},
     "output_type": "execute_result"
    }
   ],
   "source": [
    "df.gearing_type.unique()"
   ]
  },
  {
   "cell_type": "code",
   "execution_count": 16,
   "metadata": {
    "ExecuteTime": {
     "end_time": "2022-09-24T19:43:35.587655Z",
     "start_time": "2022-09-24T19:43:35.569703Z"
    }
   },
   "outputs": [
    {
     "data": {
      "text/plain": [
       "array(['Audi', 'Opel', 'Renault'], dtype=object)"
      ]
     },
     "execution_count": 16,
     "metadata": {},
     "output_type": "execute_result"
    }
   ],
   "source": [
    "df.make.unique()"
   ]
  },
  {
   "cell_type": "code",
   "execution_count": 17,
   "metadata": {
    "ExecuteTime": {
     "end_time": "2022-09-24T19:44:10.542087Z",
     "start_time": "2022-09-24T19:44:10.528090Z"
    }
   },
   "outputs": [
    {
     "data": {
      "text/plain": [
       "array(['A1', 'A2', 'A3', 'Astra', 'Corsa', 'Insignia', 'Clio', 'Duster',\n",
       "       'Espace'], dtype=object)"
      ]
     },
     "execution_count": 17,
     "metadata": {},
     "output_type": "execute_result"
    }
   ],
   "source": [
    "df.model.unique()"
   ]
  },
  {
   "cell_type": "code",
   "execution_count": 18,
   "metadata": {
    "ExecuteTime": {
     "end_time": "2022-09-24T19:44:20.709820Z",
     "start_time": "2022-09-24T19:44:20.683833Z"
    }
   },
   "outputs": [
    {
     "data": {
      "text/plain": [
       "Opel       7343\n",
       "Audi       5712\n",
       "Renault    2864\n",
       "Name: make, dtype: int64"
      ]
     },
     "execution_count": 18,
     "metadata": {},
     "output_type": "execute_result"
    }
   ],
   "source": [
    "df.make.value_counts()"
   ]
  },
  {
   "cell_type": "code",
   "execution_count": 19,
   "metadata": {
    "ExecuteTime": {
     "end_time": "2022-09-24T19:44:48.274957Z",
     "start_time": "2022-09-24T19:44:48.253022Z"
    }
   },
   "outputs": [
    {
     "data": {
      "text/plain": [
       "A3          3097\n",
       "A1          2614\n",
       "Insignia    2598\n",
       "Astra       2526\n",
       "Corsa       2219\n",
       "Clio        1839\n",
       "Espace       991\n",
       "Duster        34\n",
       "A2             1\n",
       "Name: model, dtype: int64"
      ]
     },
     "execution_count": 19,
     "metadata": {},
     "output_type": "execute_result"
    }
   ],
   "source": [
    "df.model.value_counts()"
   ]
  },
  {
   "cell_type": "code",
   "execution_count": 21,
   "metadata": {
    "ExecuteTime": {
     "end_time": "2022-09-24T19:45:05.585001Z",
     "start_time": "2022-09-24T19:45:05.533143Z"
    }
   },
   "outputs": [
    {
     "data": {
      "text/html": [
       "<div>\n",
       "<style scoped>\n",
       "    .dataframe tbody tr th:only-of-type {\n",
       "        vertical-align: middle;\n",
       "    }\n",
       "\n",
       "    .dataframe tbody tr th {\n",
       "        vertical-align: top;\n",
       "    }\n",
       "\n",
       "    .dataframe thead th {\n",
       "        text-align: right;\n",
       "    }\n",
       "</style>\n",
       "<table border=\"1\" class=\"dataframe\">\n",
       "  <thead>\n",
       "    <tr style=\"text-align: right;\">\n",
       "      <th></th>\n",
       "      <th>body_type</th>\n",
       "      <th>price_€</th>\n",
       "      <th>vat</th>\n",
       "      <th>km</th>\n",
       "      <th>hp_kW</th>\n",
       "      <th>type</th>\n",
       "      <th>previous_owners</th>\n",
       "      <th>warranty</th>\n",
       "      <th>make</th>\n",
       "      <th>model</th>\n",
       "      <th>body_color</th>\n",
       "      <th>paint_type</th>\n",
       "      <th>upholstery</th>\n",
       "      <th>nr_of_doors</th>\n",
       "      <th>nr_of_seats</th>\n",
       "      <th>gearing_type</th>\n",
       "      <th>engine_displacement_cc</th>\n",
       "      <th>cylinders</th>\n",
       "      <th>weight_kg</th>\n",
       "      <th>drive_chain</th>\n",
       "      <th>fuel</th>\n",
       "      <th>co2e_g</th>\n",
       "      <th>emission_class</th>\n",
       "      <th>comfort&amp;convenience</th>\n",
       "      <th>entertainment&amp;media</th>\n",
       "      <th>extras</th>\n",
       "      <th>safety&amp;security</th>\n",
       "      <th>gears</th>\n",
       "      <th>country_version</th>\n",
       "      <th>consumption_comb</th>\n",
       "      <th>age</th>\n",
       "    </tr>\n",
       "  </thead>\n",
       "  <tbody>\n",
       "    <tr>\n",
       "      <th>2614</th>\n",
       "      <td>Off-Road</td>\n",
       "      <td>28,200.0</td>\n",
       "      <td>VAT deductible</td>\n",
       "      <td>26,166.0</td>\n",
       "      <td>85.0</td>\n",
       "      <td>Employee's car</td>\n",
       "      <td>1.0</td>\n",
       "      <td>0.0</td>\n",
       "      <td>Audi</td>\n",
       "      <td>A2</td>\n",
       "      <td>Grey</td>\n",
       "      <td>Metallic</td>\n",
       "      <td>Cloth</td>\n",
       "      <td>5.0</td>\n",
       "      <td>5.0</td>\n",
       "      <td>Manual</td>\n",
       "      <td>1.6</td>\n",
       "      <td>4.0</td>\n",
       "      <td>1,288.0</td>\n",
       "      <td>front</td>\n",
       "      <td>Diesel</td>\n",
       "      <td>116.0</td>\n",
       "      <td>Euro 6</td>\n",
       "      <td>Air conditioning,Armrest,Automatic climate con...</td>\n",
       "      <td>Bluetooth,CD player,Hands-free equipment,MP3,O...</td>\n",
       "      <td>Alloy wheels</td>\n",
       "      <td>ABS,Adaptive Cruise Control,Central door lock,...</td>\n",
       "      <td>7.0</td>\n",
       "      <td>Germany</td>\n",
       "      <td>4.9</td>\n",
       "      <td>1.0</td>\n",
       "    </tr>\n",
       "  </tbody>\n",
       "</table>\n",
       "</div>"
      ],
      "text/plain": [
       "     body_type  price_€             vat       km  hp_kW            type  \\\n",
       "2614  Off-Road 28,200.0  VAT deductible 26,166.0   85.0  Employee's car   \n",
       "\n",
       "      previous_owners  warranty  make model body_color paint_type upholstery  \\\n",
       "2614              1.0       0.0  Audi    A2       Grey   Metallic      Cloth   \n",
       "\n",
       "      nr_of_doors  nr_of_seats gearing_type  engine_displacement_cc  \\\n",
       "2614          5.0          5.0       Manual                     1.6   \n",
       "\n",
       "      cylinders  weight_kg drive_chain    fuel  co2e_g emission_class  \\\n",
       "2614        4.0    1,288.0       front  Diesel   116.0         Euro 6   \n",
       "\n",
       "                                    comfort&convenience  \\\n",
       "2614  Air conditioning,Armrest,Automatic climate con...   \n",
       "\n",
       "                                    entertainment&media        extras  \\\n",
       "2614  Bluetooth,CD player,Hands-free equipment,MP3,O...  Alloy wheels   \n",
       "\n",
       "                                        safety&security  gears  \\\n",
       "2614  ABS,Adaptive Cruise Control,Central door lock,...    7.0   \n",
       "\n",
       "     country_version  consumption_comb  age  \n",
       "2614         Germany               4.9  1.0  "
      ]
     },
     "execution_count": 21,
     "metadata": {},
     "output_type": "execute_result"
    }
   ],
   "source": [
    "df[df.model==\"A2\"]"
   ]
  },
  {
   "cell_type": "code",
   "execution_count": 22,
   "metadata": {
    "ExecuteTime": {
     "end_time": "2022-09-24T19:45:10.138901Z",
     "start_time": "2022-09-24T19:45:10.120949Z"
    }
   },
   "outputs": [],
   "source": [
    "df.drop(index=[2614], inplace =True)"
   ]
  },
  {
   "cell_type": "code",
   "execution_count": 23,
   "metadata": {
    "ExecuteTime": {
     "end_time": "2022-09-24T19:45:16.571082Z",
     "start_time": "2022-09-24T19:45:16.553132Z"
    }
   },
   "outputs": [
    {
     "data": {
      "text/plain": [
       "array(['A1', 'A3', 'Astra', 'Corsa', 'Insignia', 'Clio', 'Duster',\n",
       "       'Espace'], dtype=object)"
      ]
     },
     "execution_count": 23,
     "metadata": {},
     "output_type": "execute_result"
    }
   ],
   "source": [
    "df.model.unique()"
   ]
  },
  {
   "cell_type": "code",
   "execution_count": 24,
   "metadata": {
    "ExecuteTime": {
     "end_time": "2022-09-24T19:45:41.950946Z",
     "start_time": "2022-09-24T19:45:41.937979Z"
    },
    "id": "Wq-nx6U9lzzD"
   },
   "outputs": [],
   "source": [
    "new_list=[\"age\", \"hp_kW\", \"km\", \"gearing_type\", 'make', 'model']"
   ]
  },
  {
   "cell_type": "code",
   "execution_count": 25,
   "metadata": {
    "ExecuteTime": {
     "end_time": "2022-09-24T19:46:07.857438Z",
     "start_time": "2022-09-24T19:46:07.835496Z"
    },
    "id": "ojUll31ZlzzD"
   },
   "outputs": [],
   "source": [
    "X=df[new_list]\n",
    "y=df['price_€']"
   ]
  },
  {
   "cell_type": "code",
   "execution_count": 26,
   "metadata": {
    "ExecuteTime": {
     "end_time": "2022-09-24T19:46:10.884723Z",
     "start_time": "2022-09-24T19:46:10.851838Z"
    },
    "id": "V7murgcWlzzD",
    "outputId": "60072f4e-26d3-4284-da4b-86f1bbf9185f"
   },
   "outputs": [
    {
     "data": {
      "text/html": [
       "<div>\n",
       "<style scoped>\n",
       "    .dataframe tbody tr th:only-of-type {\n",
       "        vertical-align: middle;\n",
       "    }\n",
       "\n",
       "    .dataframe tbody tr th {\n",
       "        vertical-align: top;\n",
       "    }\n",
       "\n",
       "    .dataframe thead th {\n",
       "        text-align: right;\n",
       "    }\n",
       "</style>\n",
       "<table border=\"1\" class=\"dataframe\">\n",
       "  <thead>\n",
       "    <tr style=\"text-align: right;\">\n",
       "      <th></th>\n",
       "      <th>age</th>\n",
       "      <th>hp_kW</th>\n",
       "      <th>km</th>\n",
       "      <th>gearing_type</th>\n",
       "      <th>make</th>\n",
       "      <th>model</th>\n",
       "    </tr>\n",
       "  </thead>\n",
       "  <tbody>\n",
       "    <tr>\n",
       "      <th>14633</th>\n",
       "      <td>1.0</td>\n",
       "      <td>66.0</td>\n",
       "      <td>27,500.0</td>\n",
       "      <td>Manual</td>\n",
       "      <td>Renault</td>\n",
       "      <td>Clio</td>\n",
       "    </tr>\n",
       "    <tr>\n",
       "      <th>1760</th>\n",
       "      <td>1.0</td>\n",
       "      <td>85.0</td>\n",
       "      <td>10,306.0</td>\n",
       "      <td>Manual</td>\n",
       "      <td>Audi</td>\n",
       "      <td>A1</td>\n",
       "    </tr>\n",
       "    <tr>\n",
       "      <th>9986</th>\n",
       "      <td>0.0</td>\n",
       "      <td>66.0</td>\n",
       "      <td>100.0</td>\n",
       "      <td>Automatic</td>\n",
       "      <td>Opel</td>\n",
       "      <td>Corsa</td>\n",
       "    </tr>\n",
       "    <tr>\n",
       "      <th>8062</th>\n",
       "      <td>0.0</td>\n",
       "      <td>92.0</td>\n",
       "      <td>2,835.0</td>\n",
       "      <td>Manual</td>\n",
       "      <td>Opel</td>\n",
       "      <td>Astra</td>\n",
       "    </tr>\n",
       "    <tr>\n",
       "      <th>4644</th>\n",
       "      <td>1.0</td>\n",
       "      <td>85.0</td>\n",
       "      <td>15,193.0</td>\n",
       "      <td>Automatic</td>\n",
       "      <td>Audi</td>\n",
       "      <td>A3</td>\n",
       "    </tr>\n",
       "  </tbody>\n",
       "</table>\n",
       "</div>"
      ],
      "text/plain": [
       "       age  hp_kW       km gearing_type     make  model\n",
       "14633  1.0   66.0 27,500.0       Manual  Renault   Clio\n",
       "1760   1.0   85.0 10,306.0       Manual     Audi     A1\n",
       "9986   0.0   66.0    100.0    Automatic     Opel  Corsa\n",
       "8062   0.0   92.0  2,835.0       Manual     Opel  Astra\n",
       "4644   1.0   85.0 15,193.0    Automatic     Audi     A3"
      ]
     },
     "execution_count": 26,
     "metadata": {},
     "output_type": "execute_result"
    }
   ],
   "source": [
    "X.sample(5)"
   ]
  },
  {
   "cell_type": "code",
   "execution_count": 27,
   "metadata": {
    "ExecuteTime": {
     "end_time": "2022-09-24T19:46:17.024848Z",
     "start_time": "2022-09-24T19:46:17.002941Z"
    },
    "id": "BSJL2gsXlzzE"
   },
   "outputs": [],
   "source": [
    "X_train, X_test, y_train, y_test = train_test_split(X, y, test_size = 0.2, random_state = 0)"
   ]
  },
  {
   "cell_type": "code",
   "execution_count": 28,
   "metadata": {
    "ExecuteTime": {
     "end_time": "2022-09-24T19:46:20.426861Z",
     "start_time": "2022-09-24T19:46:20.402927Z"
    }
   },
   "outputs": [],
   "source": [
    "from sklearn.compose import make_column_transformer"
   ]
  },
  {
   "cell_type": "code",
   "execution_count": 29,
   "metadata": {
    "ExecuteTime": {
     "end_time": "2022-09-24T19:46:26.004655Z",
     "start_time": "2022-09-24T19:46:25.986703Z"
    }
   },
   "outputs": [],
   "source": [
    "from sklearn.preprocessing import OrdinalEncoder"
   ]
  },
  {
   "cell_type": "code",
   "execution_count": 30,
   "metadata": {
    "ExecuteTime": {
     "end_time": "2022-09-24T19:46:34.449765Z",
     "start_time": "2022-09-24T19:46:34.425829Z"
    }
   },
   "outputs": [
    {
     "data": {
      "text/plain": [
       "Index(['gearing_type', 'make', 'model'], dtype='object')"
      ]
     },
     "execution_count": 30,
     "metadata": {},
     "output_type": "execute_result"
    }
   ],
   "source": [
    "cat = X_train.select_dtypes(\"object\").columns\n",
    "cat"
   ]
  },
  {
   "cell_type": "code",
   "execution_count": 31,
   "metadata": {
    "ExecuteTime": {
     "end_time": "2022-09-24T19:46:44.305650Z",
     "start_time": "2022-09-24T19:46:44.291687Z"
    }
   },
   "outputs": [],
   "source": [
    "ord_enc = OrdinalEncoder()\n",
    "column_trans = make_column_transformer((ord_enc, cat), remainder='passthrough') # remainder: # Keep other columns rather than cat in original form.\n",
    "                                                                                # remainder: # if you want to scale rest of cat columns use \"minmax\" istead passthroug\n",
    "    \n",
    "    # Apply ord_enc to categoric variables and remain in original form rest of them.\n",
    "    # ord_enc for DT based algorithms\n",
    "    # For Linear reg, log reg vs. use one hot encoder "
   ]
  },
  {
   "cell_type": "code",
   "execution_count": 32,
   "metadata": {
    "ExecuteTime": {
     "end_time": "2022-09-24T19:46:50.437837Z",
     "start_time": "2022-09-24T19:46:50.401935Z"
    }
   },
   "outputs": [],
   "source": [
    "X_train=column_trans.fit_transform(X_train)"
   ]
  },
  {
   "cell_type": "code",
   "execution_count": 33,
   "metadata": {
    "ExecuteTime": {
     "end_time": "2022-09-24T19:46:54.347292Z",
     "start_time": "2022-09-24T19:46:54.322382Z"
    }
   },
   "outputs": [],
   "source": [
    "X_test=column_trans.transform(X_test)"
   ]
  },
  {
   "cell_type": "code",
   "execution_count": 34,
   "metadata": {
    "ExecuteTime": {
     "end_time": "2022-09-24T19:46:58.901682Z",
     "start_time": "2022-09-24T19:46:58.889713Z"
    }
   },
   "outputs": [
    {
     "data": {
      "text/plain": [
       "array([[0.0000e+00, 0.0000e+00, 0.0000e+00, 2.0000e+00, 7.0000e+01,\n",
       "        1.9800e+04],\n",
       "       [0.0000e+00, 2.0000e+00, 6.0000e+00, 2.0000e+00, 1.4700e+02,\n",
       "        4.9606e+04],\n",
       "       [1.0000e+00, 2.0000e+00, 3.0000e+00, 0.0000e+00, 5.6000e+01,\n",
       "        1.0000e+01],\n",
       "       ...,\n",
       "       [0.0000e+00, 1.0000e+00, 4.0000e+00, 0.0000e+00, 6.6000e+01,\n",
       "        7.5000e+03],\n",
       "       [0.0000e+00, 1.0000e+00, 7.0000e+00, 3.0000e+00, 1.0000e+02,\n",
       "        1.7980e+05],\n",
       "       [0.0000e+00, 0.0000e+00, 1.0000e+00, 3.0000e+00, 8.1000e+01,\n",
       "        9.7000e+04]])"
      ]
     },
     "execution_count": 34,
     "metadata": {},
     "output_type": "execute_result"
    }
   ],
   "source": [
    "X_train"
   ]
  },
  {
   "cell_type": "code",
   "execution_count": 35,
   "metadata": {
    "ExecuteTime": {
     "end_time": "2022-09-24T19:47:04.527420Z",
     "start_time": "2022-09-24T19:47:04.505478Z"
    }
   },
   "outputs": [
    {
     "data": {
      "text/plain": [
       "0        0.0\n",
       "1        2.0\n",
       "2        6.0\n",
       "3        2.0\n",
       "4      147.0\n",
       "5   49,606.0\n",
       "dtype: float64"
      ]
     },
     "execution_count": 35,
     "metadata": {},
     "output_type": "execute_result"
    }
   ],
   "source": [
    "pd.Series(X_train[1])"
   ]
  },
  {
   "cell_type": "code",
   "execution_count": 36,
   "metadata": {
    "ExecuteTime": {
     "end_time": "2022-09-24T19:47:19.258166Z",
     "start_time": "2022-09-24T19:47:16.803019Z"
    }
   },
   "outputs": [
    {
     "data": {
      "text/plain": [
       "RandomForestRegressor()"
      ]
     },
     "execution_count": 36,
     "metadata": {},
     "output_type": "execute_result"
    }
   ],
   "source": [
    "from sklearn.ensemble import RandomForestRegressor\n",
    "rf_model=RandomForestRegressor()\n",
    "rf_model.fit(X_train, y_train)"
   ]
  },
  {
   "cell_type": "code",
   "execution_count": 37,
   "metadata": {
    "ExecuteTime": {
     "end_time": "2022-09-24T19:47:24.475811Z",
     "start_time": "2022-09-24T19:47:24.346073Z"
    }
   },
   "outputs": [],
   "source": [
    "y_pred = rf_model.predict(X_test)"
   ]
  },
  {
   "cell_type": "code",
   "execution_count": 38,
   "metadata": {
    "ExecuteTime": {
     "end_time": "2022-09-24T19:47:33.801940Z",
     "start_time": "2022-09-24T19:47:33.776979Z"
    }
   },
   "outputs": [
    {
     "name": "stdout",
     "output_type": "stream",
     "text": [
      " r2_score: 0.9314148317609088 \n",
      " mae: 1147.0356577574983 \n",
      " mse: 3556032.2716101464 \n",
      " rmse: 1885.7444873604022\n"
     ]
    }
   ],
   "source": [
    "eval_metrics(y_test,y_pred)"
   ]
  },
  {
   "cell_type": "code",
   "execution_count": 39,
   "metadata": {
    "ExecuteTime": {
     "end_time": "2022-09-24T19:47:39.063890Z",
     "start_time": "2022-09-24T19:47:38.914202Z"
    }
   },
   "outputs": [],
   "source": [
    "import pickle\n",
    "pickle.dump(rf_model, open('rf_model_new', 'wb'))"
   ]
  },
  {
   "cell_type": "code",
   "execution_count": 40,
   "metadata": {
    "ExecuteTime": {
     "end_time": "2022-09-24T19:47:45.292025Z",
     "start_time": "2022-09-24T19:47:45.267062Z"
    }
   },
   "outputs": [],
   "source": [
    "pickle.dump(column_trans, open('transformer', 'wb'))"
   ]
  },
  {
   "cell_type": "markdown",
   "metadata": {},
   "source": [
    "**deployment**"
   ]
  },
  {
   "cell_type": "code",
   "execution_count": 41,
   "metadata": {
    "ExecuteTime": {
     "end_time": "2022-09-24T19:47:57.772620Z",
     "start_time": "2022-09-24T19:47:57.618808Z"
    }
   },
   "outputs": [],
   "source": [
    "richard_model = pickle.load(open('rf_model_new', 'rb'))"
   ]
  },
  {
   "cell_type": "code",
   "execution_count": 42,
   "metadata": {
    "ExecuteTime": {
     "end_time": "2022-09-24T19:48:07.414667Z",
     "start_time": "2022-09-24T19:48:07.401701Z"
    }
   },
   "outputs": [],
   "source": [
    "richard_transformer = pickle.load(open('transformer', 'rb'))"
   ]
  },
  {
   "cell_type": "code",
   "execution_count": 43,
   "metadata": {
    "ExecuteTime": {
     "end_time": "2022-09-24T19:48:17.418631Z",
     "start_time": "2022-09-24T19:48:17.402647Z"
    }
   },
   "outputs": [
    {
     "data": {
      "text/plain": [
       "['age', 'hp_kW', 'km', 'gearing_type', 'make', 'model']"
      ]
     },
     "execution_count": 43,
     "metadata": {},
     "output_type": "execute_result"
    }
   ],
   "source": [
    "columns=list(X.columns)\n",
    "columns"
   ]
  },
  {
   "cell_type": "code",
   "execution_count": 44,
   "metadata": {
    "ExecuteTime": {
     "end_time": "2022-09-24T19:49:17.937684Z",
     "start_time": "2022-09-24T19:49:17.926715Z"
    }
   },
   "outputs": [],
   "source": [
    "my_dict = {\n",
    "    \"age\": 2,\n",
    "    \"hp_kW\": 105,\n",
    "    \"km\": 100000,\n",
    "    \"gearing_type\":\"Automatic\",\n",
    "    \"make\": 'Audi',\n",
    "    \"model\": 'A3'\n",
    "}"
   ]
  },
  {
   "cell_type": "code",
   "execution_count": 415,
   "metadata": {},
   "outputs": [],
   "source": [
    "#df = pd.DataFrame([my_dict])\n",
    "#df = pd.DataFrame(my_dict, index=[\"a\"])"
   ]
  },
  {
   "cell_type": "code",
   "execution_count": 45,
   "metadata": {
    "ExecuteTime": {
     "end_time": "2022-09-24T19:49:24.258939Z",
     "start_time": "2022-09-24T19:49:24.244978Z"
    }
   },
   "outputs": [],
   "source": [
    "df = pd.DataFrame.from_dict([my_dict])"
   ]
  },
  {
   "cell_type": "code",
   "execution_count": 46,
   "metadata": {
    "ExecuteTime": {
     "end_time": "2022-09-24T19:49:28.097851Z",
     "start_time": "2022-09-24T19:49:28.070923Z"
    }
   },
   "outputs": [
    {
     "data": {
      "text/html": [
       "<div>\n",
       "<style scoped>\n",
       "    .dataframe tbody tr th:only-of-type {\n",
       "        vertical-align: middle;\n",
       "    }\n",
       "\n",
       "    .dataframe tbody tr th {\n",
       "        vertical-align: top;\n",
       "    }\n",
       "\n",
       "    .dataframe thead th {\n",
       "        text-align: right;\n",
       "    }\n",
       "</style>\n",
       "<table border=\"1\" class=\"dataframe\">\n",
       "  <thead>\n",
       "    <tr style=\"text-align: right;\">\n",
       "      <th></th>\n",
       "      <th>age</th>\n",
       "      <th>hp_kW</th>\n",
       "      <th>km</th>\n",
       "      <th>gearing_type</th>\n",
       "      <th>make</th>\n",
       "      <th>model</th>\n",
       "    </tr>\n",
       "  </thead>\n",
       "  <tbody>\n",
       "    <tr>\n",
       "      <th>0</th>\n",
       "      <td>2</td>\n",
       "      <td>105</td>\n",
       "      <td>100000</td>\n",
       "      <td>Automatic</td>\n",
       "      <td>Audi</td>\n",
       "      <td>A3</td>\n",
       "    </tr>\n",
       "  </tbody>\n",
       "</table>\n",
       "</div>"
      ],
      "text/plain": [
       "   age  hp_kW      km gearing_type  make model\n",
       "0    2    105  100000    Automatic  Audi    A3"
      ]
     },
     "execution_count": 46,
     "metadata": {},
     "output_type": "execute_result"
    }
   ],
   "source": [
    "df.head()"
   ]
  },
  {
   "cell_type": "code",
   "execution_count": 47,
   "metadata": {
    "ExecuteTime": {
     "end_time": "2022-09-24T19:49:33.760269Z",
     "start_time": "2022-09-24T19:49:33.737330Z"
    }
   },
   "outputs": [],
   "source": [
    "df2 = richard_transformer.transform(df)"
   ]
  },
  {
   "cell_type": "code",
   "execution_count": 48,
   "metadata": {
    "ExecuteTime": {
     "end_time": "2022-09-24T19:49:43.549847Z",
     "start_time": "2022-09-24T19:49:43.537850Z"
    }
   },
   "outputs": [
    {
     "data": {
      "text/plain": [
       "0         0.0\n",
       "1         0.0\n",
       "2         1.0\n",
       "3         2.0\n",
       "4       105.0\n",
       "5   100,000.0\n",
       "dtype: float64"
      ]
     },
     "execution_count": 48,
     "metadata": {},
     "output_type": "execute_result"
    }
   ],
   "source": [
    "pd.Series(df2[0])"
   ]
  },
  {
   "cell_type": "code",
   "execution_count": 49,
   "metadata": {
    "ExecuteTime": {
     "end_time": "2022-09-24T19:49:50.700712Z",
     "start_time": "2022-09-24T19:49:50.673785Z"
    }
   },
   "outputs": [
    {
     "name": "stdout",
     "output_type": "stream",
     "text": [
      "[19243.45]\n"
     ]
    }
   ],
   "source": [
    "prediction = richard_model.predict(df2)\n",
    "print(prediction)"
   ]
  },
  {
   "cell_type": "code",
   "execution_count": 50,
   "metadata": {
    "ExecuteTime": {
     "end_time": "2022-09-24T19:49:57.044748Z",
     "start_time": "2022-09-24T19:49:57.035773Z"
    }
   },
   "outputs": [
    {
     "name": "stdout",
     "output_type": "stream",
     "text": [
      "The estimated price of your car is €19243. \n"
     ]
    }
   ],
   "source": [
    "print(\"The estimated price of your car is €{}. \".format(int(prediction[0])))"
   ]
  },
  {
   "cell_type": "code",
   "execution_count": null,
   "metadata": {},
   "outputs": [],
   "source": []
  }
 ],
 "metadata": {
  "colab": {
   "collapsed_sections": [],
   "name": "modeling_auto_scout.ipynb",
   "provenance": []
  },
  "hide_input": false,
  "kernelspec": {
   "display_name": "Python 3 (ipykernel)",
   "language": "python",
   "name": "python3"
  },
  "language_info": {
   "codemirror_mode": {
    "name": "ipython",
    "version": 3
   },
   "file_extension": ".py",
   "mimetype": "text/x-python",
   "name": "python",
   "nbconvert_exporter": "python",
   "pygments_lexer": "ipython3",
   "version": "3.9.13"
  },
  "toc": {
   "base_numbering": 1,
   "nav_menu": {},
   "number_sections": true,
   "sideBar": true,
   "skip_h1_title": false,
   "title_cell": "Table of Contents",
   "title_sidebar": "Contents",
   "toc_cell": false,
   "toc_position": {},
   "toc_section_display": true,
   "toc_window_display": false
  },
  "vscode": {
   "interpreter": {
    "hash": "f6246b25e200e4c5124e3e61789ac81350562f0761bbcf92ad9e48654207659c"
   }
  }
 },
 "nbformat": 4,
 "nbformat_minor": 4
}
